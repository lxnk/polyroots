{
 "cells": [
  {
   "cell_type": "code",
   "execution_count": 4,
   "outputs": [
    {
     "data": {
      "text/plain": "<IPython.core.display.Latex object>",
      "text/latex": "Lets split off the complex root we investigate\n$$\np(x) = q(x) ((x-a)^2+b^2)\n$$\nLet's the root guess is $z_0=a_0+ib_0$. Parametrizing the polynomial as\n$$\np_1(x) = p(z_0+ix) = q(z_0+ix)(ix+z_0+a+ib)(ix-\\delta z)\n\\\\\\approx C (ix-\\delta z)\n$$\n"
     },
     "metadata": {},
     "output_type": "display_data"
    }
   ],
   "source": [
    "%%latex\n",
    "Lets split off the complex root we investigate\n",
    "$$\n",
    "p(x) = q(x) ((x-a)^2+b^2)\n",
    "$$\n",
    "Let's the root guess is $z_0=a_0+ib_0$. Parametrizing the polynomial as\n",
    "$$\n",
    "p_1(x) = p(z_0+ix) = q(z_0+ix)(ix+z_0+a+ib)(ix-\\delta z)\n",
    "\\\\\\approx C (ix-\\delta z)\n",
    "$$"
   ],
   "metadata": {
    "collapsed": false,
    "pycharm": {
     "name": "#%%\n"
    }
   }
  }
 ],
 "metadata": {
  "kernelspec": {
   "display_name": "Python 3",
   "language": "python",
   "name": "python3"
  },
  "language_info": {
   "codemirror_mode": {
    "name": "ipython",
    "version": 2
   },
   "file_extension": ".py",
   "mimetype": "text/x-python",
   "name": "python",
   "nbconvert_exporter": "python",
   "pygments_lexer": "ipython2",
   "version": "2.7.6"
  }
 },
 "nbformat": 4,
 "nbformat_minor": 0
}